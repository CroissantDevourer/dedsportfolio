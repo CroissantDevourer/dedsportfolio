{
 "cells": [
  {
   "cell_type": "code",
   "execution_count": 1,
   "metadata": {},
   "outputs": [
    {
     "name": "stdout",
     "output_type": "stream",
     "text": [
      "[1, 2, 3, 4, 5, 6, 7, 8, 9, 10, 11, 12, 13, 14, 15, 16, 17, 18, 19, 20]\n",
      "Jar\n",
      "45\n"
     ]
    }
   ],
   "source": [
    "list1 = [2,1,3,4,5,6,7,8,9,10,11,12,13,14,15,16,17,18,19,20]\n",
    "\n",
    "# O(n^2) omdat hij 2x loopt (loop in loop)\n",
    "# Maakt gebruikt van een list (of numpy array)\n",
    "def selectionsort(n: list[int]) -> None:\n",
    "    for i in range(len(n) - 1):\n",
    "        lowest = i\n",
    "        for j in range(i+1, len(n)):\n",
    "            if n[j] < n[lowest]:\n",
    "                lowest = j\n",
    "        n[i], n[lowest] = n[lowest], n[i] \n",
    "\n",
    "# O(n) niet 1 omdat capitalize een kopie van de string maakt. het is n omdat hij eerst elk karakter moet kopieren.\n",
    "# Maakt eerste letter een hoofdletter\n",
    "def capitalize_first_char(waarde: str) -> str:\n",
    "    return waarde.capitalize()\n",
    "\n",
    "# O(n) omdat hij de bits van de waardes bij elkaar moet optellen, dus n is het aantal bits van de grootste waarde van x en y\n",
    "# als x groter is dan y dan is n de grootte van x en andersom\n",
    "# maakt gebruik van list maar algoritme gebruikt een set om alleen de distinct values bij elkaar op te tellen\n",
    "def sum_distinct_values(items: list[int]) -> int:\n",
    "    return sum(set(items))\n",
    "\n",
    "selectionsort(list1)\n",
    "print(list1)\n",
    "print(capitalize_first_char(input()))\n",
    "print(sum_distinct_values([1, 1, 1, 2, 3, 3, 3, 4, 4, 4, 4, 5, 5, 5, 5, 6, 6, 7, 8, 9]))\n",
    "    "
   ]
  }
 ],
 "metadata": {
  "kernelspec": {
   "display_name": "Python 3",
   "language": "python",
   "name": "python3"
  },
  "language_info": {
   "codemirror_mode": {
    "name": "ipython",
    "version": 3
   },
   "file_extension": ".py",
   "mimetype": "text/x-python",
   "name": "python",
   "nbconvert_exporter": "python",
   "pygments_lexer": "ipython3",
   "version": "3.12.2"
  }
 },
 "nbformat": 4,
 "nbformat_minor": 2
}
