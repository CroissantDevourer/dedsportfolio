{
 "cells": [
  {
   "cell_type": "code",
   "execution_count": 20,
   "metadata": {},
   "outputs": [
    {
     "name": "stdout",
     "output_type": "stream",
     "text": [
      "[1, 2, 3, 4, 5, 6, 7, 8, 9, 10, 11, 12, 13, 14, 15, 16, 17, 18, 19, 20]\n",
      "0.00020330000188550912\n"
     ]
    }
   ],
   "source": [
    "import random\n",
    "import timeit\n",
    "\n",
    "list1 = [2,1,3,4,5,6,7,8,9,10,11,12,13,14,15,16,17,18,19,20]\n",
    "list2 = [-10,-7,5,-3,12,12,-12,16,18,-10,-10,-9,9,8,7,15,3328,1,2,3]\n",
    "list3 = [1,-100,-10,-9,-34,-43,-55,-1,-7,-7,0,-0,-13,-14,-60,-3023,-19843,-18,-19,-20]\n",
    "list4 = [2,1,4,3] # voor bogo\n",
    "\n",
    "# O(n^2)\n",
    "def bubblesort(n):\n",
    "    for _ in range(len(n)):\n",
    "        for i in range(len(n) - 1):\n",
    "            if n[i] > n[i + 1]:\n",
    "                temp = n[i]\n",
    "                n[i] = n[i + 1]\n",
    "                n[i + 1] = temp\n",
    "    \n",
    "    print(n)\n",
    "\n",
    "# O(∞)\n",
    "def bogosort(n):\n",
    "    while(n != sorted(n)):\n",
    "        random.shuffle(n)\n",
    "    \n",
    "    print(n)\n",
    "\n",
    "# O(n^2)\n",
    "def selectionsort(n):\n",
    "    for i in range(len(n) - 1):\n",
    "        lowest = i\n",
    "        for j in range(i+1, len(n)):\n",
    "            if n[j] < n[lowest]:\n",
    "                lowest = j\n",
    "        n[i], n[lowest] = n[lowest], n[i]\n",
    "\n",
    "    print(n)            \n",
    "\n",
    "if __name__ == \"__main__\":\n",
    "    print(timeit.timeit(\"bubblesort(list1)\", setup=\"from __main__ import bubblesort, list1\", number=1))\n",
    "    print(timeit.timeit(\"bogosort(list2)\", setup=\"from __main__ import bogosort, list2\", number=1))\n",
    "    print(timeit.timeit(\"selectionsort(list3)\", setup=\"from __main__ import selectionsort, list3\", number=1))"
   ]
  }
 ],
 "metadata": {
  "kernelspec": {
   "display_name": "Python 3",
   "language": "python",
   "name": "python3"
  },
  "language_info": {
   "codemirror_mode": {
    "name": "ipython",
    "version": 3
   },
   "file_extension": ".py",
   "mimetype": "text/x-python",
   "name": "python",
   "nbconvert_exporter": "python",
   "pygments_lexer": "ipython3",
   "version": "3.11.0"
  }
 },
 "nbformat": 4,
 "nbformat_minor": 2
}
