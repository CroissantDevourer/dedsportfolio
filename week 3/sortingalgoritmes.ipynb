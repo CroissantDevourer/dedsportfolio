{
 "cells": [
  {
   "cell_type": "code",
   "execution_count": 1,
   "metadata": {},
   "outputs": [
    {
     "name": "stdout",
     "output_type": "stream",
     "text": [
      "[1, 2, 3, 4, 5, 6, 7, 8, 9, 10, 11, 12, 13, 14, 15, 16, 17, 18, 19, 20]\n",
      "0.00019320001592859626\n",
      "[1, 2, 3, 4, 6, 7, 8, 9, 10, 14]\n",
      "5.957955299993046\n",
      "[-19843, -3023, -100, -60, -55, -43, -34, -20, -19, -18, -14, -13, -10, -9, -7, -7, -1, 0, 0, 1]\n",
      "2.889998722821474e-05\n"
     ]
    }
   ],
   "source": [
    "import random\n",
    "import timeit\n",
    "\n",
    "list1 = [2,1,3,4,5,6,7,8,9,10,11,12,13,14,15,16,17,18,19,20]\n",
    "list2 = [-10,-7,5,-3,12,12,-12,16,18,-10,-10,-9,9,8,7,15,3328,1,2,3]\n",
    "list3 = [1,-100,-10,-9,-34,-43,-55,-1,-7,-7,0,-0,-13,-14,-60,-3023,-19843,-18,-19,-20]\n",
    "list4 = [2,1,4,3,7,9,8,6,10,14] # voor bogo\n",
    "\n",
    "# O(n^2)\n",
    "# bubblesort werkt dmv. de index te vergelijken met het volgende getal in de list.\n",
    "# wanneer het getal na de index lager is dan de index, dan swapt hij deze 2 getallen.\n",
    "# deze methode van sorting is inefficient omdat zelfs als de lijst bij loop 2 al gesorteerd is, blijft hij nog steeds n^2 lopen.\n",
    "def bubblesort(n):\n",
    "    for _ in range(len(n)):\n",
    "        for i in range(len(n) - 1):\n",
    "            if n[i] > n[i + 1]:\n",
    "                temp = n[i]\n",
    "                n[i] = n[i + 1]\n",
    "                n[i + 1] = temp\n",
    "                # of n[i], n[i+1] = n[i+1], n[i]\n",
    "    \n",
    "    print(n)\n",
    "\n",
    "# O(∞)\n",
    "# Bogosort werkt door te kijken of de lijst gesorteerd is\n",
    "# is dat niet zo, dan gooit hij de getallen in de lijst door elkaar, totdat hij wel in juiste volgorde staat.\n",
    "# dit kan oneindig lang duren, vandaar big oh van infinite\n",
    "def bogosort(n):\n",
    "    while(n != sorted(n)):\n",
    "        random.shuffle(n)\n",
    "    \n",
    "    print(n)\n",
    "\n",
    "# O(n^2)\n",
    "# selectionsort werkt door, net als bubblesort de index te vergelijken met het volgende getal\n",
    "# het werkt alleen wel iets anders, want  je slaat het laagst gevonden getal op en die zet je elke keer op de index\n",
    "# dit heeft een big oh van n^2 omdat voor elk item in de lijst, vergelijk je alle items uit de lijst.\n",
    "# het is wel elke keer 1 item minder (want na elke loop staat een getal op de juiste plek)\n",
    "# je doet half zoveel als n^2 vergelijkingen maar een big oh van n^2 / 2 is hetzelfde als n^2 omdat delen factor 0.5 is dus een constante factor (die je bij big oh eruit haalt). \n",
    "def selectionsort(n):\n",
    "    for i in range(len(n) - 1):\n",
    "        lowest = i\n",
    "        for j in range(i+1, len(n)):\n",
    "            if n[j] < n[lowest]:\n",
    "                lowest = j\n",
    "        n[i], n[lowest] = n[lowest], n[i]\n",
    "\n",
    "    print(n)            \n",
    "\n",
    "if __name__ == \"__main__\":\n",
    "    print(timeit.timeit(\"bubblesort(list1)\", setup=\"from __main__ import bubblesort, list1\", number=1))\n",
    "    print(timeit.timeit(\"bogosort(list4)\", setup=\"from __main__ import bogosort, list4\", number=1))\n",
    "    print(timeit.timeit(\"selectionsort(list3)\", setup=\"from __main__ import selectionsort, list3\", number=1))"
   ]
  }
 ],
 "metadata": {
  "kernelspec": {
   "display_name": "Python 3",
   "language": "python",
   "name": "python3"
  },
  "language_info": {
   "codemirror_mode": {
    "name": "ipython",
    "version": 3
   },
   "file_extension": ".py",
   "mimetype": "text/x-python",
   "name": "python",
   "nbconvert_exporter": "python",
   "pygments_lexer": "ipython3",
   "version": "3.12.2"
  }
 },
 "nbformat": 4,
 "nbformat_minor": 2
}
